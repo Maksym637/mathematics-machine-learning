{
 "cells": [
  {
   "cell_type": "markdown",
   "metadata": {},
   "source": [
    "### Gram-Schmidt process\n",
    "#### Intrucstions\n",
    "In this assignment you will write a function to perform the Gram-Schmidt procedure, which takes a list of vectors and forms an orthonormal basis from this set. As a corollary , the procedure allows us to determine the dimension of the space spanned by the basis vectors, which is equal to or less than the space which the vectors sit.\n",
    "\n",
    "You'll start by completing a function for 4 basis vectors, before generalising to when an arbitrary number of vectors are given."
   ]
  },
  {
   "cell_type": "markdown",
   "metadata": {},
   "source": [
    "#### Matrices in Python\n",
    "Remember the structure for matrices in **numpy** is,\n",
    "\n",
    "```python\n",
    "A[0, 0] A[0, 1] A[0, 2] A[0, 3]\n",
    "A[1, 0] A[1, 1] A[1, 2] A[1, 3]\n",
    "A[2, 0] A[2, 1] A[2, 2] A[2, 3]\n",
    "A[3, 0] A[3, 1] A[3, 2] A[3, 3]\n",
    "```\n",
    "\n",
    "You can access the value of each element individually using,\n",
    "\n",
    "```python\n",
    "A[n, m]\n",
    "```\n",
    "\n",
    "You can also access a whole row a time using,\n",
    "\n",
    "```python\n",
    "A[n]\n",
    "```\n",
    "\n",
    "Building on last assignment, in this exercise you will need to select whole columns at a time. This can be done with,\n",
    "\n",
    "```python\n",
    "A[:, m]\n",
    "```\n",
    "\n",
    "which will select the m'th column (starting at zero).\n",
    "\n",
    "In this exercise, you will need to take the dot product between vectors. This can be done using the **@** operator. To dot product vectors u and v, use the code,\n",
    "\n",
    "```python\n",
    "u @ v\n",
    "```"
   ]
  },
  {
   "cell_type": "markdown",
   "metadata": {},
   "source": [
    "#### Gram-Schmidt process\n",
    "\n",
    "$$\\vec{u_k} = \\vec{v_k} - \\sum_{j=1}^{k-1} proj_{\\vec{u_j}} (\\vec{v_k})$$\n",
    "\n",
    "$$proj_{\\vec{u_j}} (\\vec{v_k}) = {\\vec{u_j} * \\vec{v_k} \\over (\\vec{u_j})^2} * \\vec{u_j}$$\n",
    "\n",
    "$$\\vec{e_k} = {\\vec{u_k} \\over \\|\\vec{u_k}\\|}$$"
   ]
  },
  {
   "cell_type": "code",
   "execution_count": 20,
   "metadata": {},
   "outputs": [],
   "source": [
    "import numpy as np\n",
    "import numpy.linalg as la"
   ]
  },
  {
   "cell_type": "code",
   "execution_count": 21,
   "metadata": {},
   "outputs": [],
   "source": [
    "verySmallNumber = 1e-14"
   ]
  },
  {
   "cell_type": "code",
   "execution_count": 22,
   "metadata": {},
   "outputs": [],
   "source": [
    "def gsBasis4(A):\n",
    "    B = np.array(A, dtype=np.float64)\n",
    "\n",
    "    B[:, 0] = B[:, 0] / la.norm(B[:, 0])\n",
    "    B[:, 1] = B[:, 1] - B[:, 1] @ B[:, 0] * B[:, 0]\n",
    "\n",
    "    if la.norm(B[:, 1]) > verySmallNumber:\n",
    "        B[:, 1] = B[:, 1] / la.norm(B[:, 1])\n",
    "    else:\n",
    "        B[:, 1] = np.zeros_like(B[:, 1])\n",
    "    \n",
    "    B[:, 2] = (\n",
    "        B[:, 2] - B[:, 2] @ B[:, 1] * B[:, 1] - \n",
    "        B[:, 2] @ B[:, 0] * B[:, 0]\n",
    "    )\n",
    "\n",
    "    if la.norm(B[:, 2]) > verySmallNumber :\n",
    "        B[:, 2] = B[:, 2] / la.norm(B[:, 2])\n",
    "    else:\n",
    "        B[:, 2] = np.zeros_like(B[:, 2])\n",
    "\n",
    "    B[:, 3] = (\n",
    "        B[:, 3] - B[:, 3] @ B[:, 2] * B[:, 2] - \n",
    "        B[:, 3] @ B[:, 1] * B[:, 1] - \n",
    "        B[:, 3] @ B[:, 0] * B[:, 0]\n",
    "    )\n",
    "\n",
    "    if la.norm(B[:, 3]) > verySmallNumber :\n",
    "        B[:, 3] = B[:, 3] / la.norm(B[:, 3])\n",
    "    else:\n",
    "        B[:, 3] = np.zeros_like(B[:, 3])\n",
    "    \n",
    "    return B\n"
   ]
  },
  {
   "cell_type": "code",
   "execution_count": 23,
   "metadata": {},
   "outputs": [],
   "source": [
    "def gsBasis(A):\n",
    "    B = np.array(A, dtype=np.float64)\n",
    "\n",
    "    for i in range(B.shape[1]):\n",
    "        for j in range(i):\n",
    "            B[:, i] = B[:, i] - B[:, i] @ B[:, j] * B[:, j]\n",
    "        if la.norm(B[:, i]) > verySmallNumber :\n",
    "            B[:, i] = B[:, i] / la.norm(B[:, i])\n",
    "        else:\n",
    "            B[:, i] = np.zeros_like(B[:, i])\n",
    "    \n",
    "    return B"
   ]
  },
  {
   "cell_type": "code",
   "execution_count": 24,
   "metadata": {},
   "outputs": [],
   "source": [
    "def dimensions(A):\n",
    "    return np.sum(la.norm(gsBasis(A), axis=0))"
   ]
  },
  {
   "cell_type": "markdown",
   "metadata": {},
   "source": [
    "#### Test your code"
   ]
  },
  {
   "cell_type": "code",
   "execution_count": 25,
   "metadata": {},
   "outputs": [],
   "source": [
    "V = np.array([\n",
    "    [1, 0, 2, 6],\n",
    "    [0, 1, 8, 2],\n",
    "    [2, 8, 3, 1],\n",
    "    [1, -6, 2, 3]\n",
    "], dtype=np.float64)"
   ]
  },
  {
   "cell_type": "code",
   "execution_count": 26,
   "metadata": {},
   "outputs": [
    {
     "data": {
      "text/plain": [
       "array([[ 0.40824829, -0.1814885 ,  0.04982278,  0.89325973],\n",
       "       [ 0.        ,  0.1088931 ,  0.99349591, -0.03328918],\n",
       "       [ 0.81649658,  0.50816781, -0.06462163, -0.26631346],\n",
       "       [ 0.40824829, -0.83484711,  0.07942048, -0.36063281]])"
      ]
     },
     "execution_count": 26,
     "metadata": {},
     "output_type": "execute_result"
    }
   ],
   "source": [
    "gsBasis4(V)"
   ]
  },
  {
   "cell_type": "code",
   "execution_count": 27,
   "metadata": {},
   "outputs": [
    {
     "data": {
      "text/plain": [
       "array([[ 0.40824829, -0.1814885 ,  0.04982278,  0.89325973],\n",
       "       [ 0.        ,  0.1088931 ,  0.99349591, -0.03328918],\n",
       "       [ 0.81649658,  0.50816781, -0.06462163, -0.26631346],\n",
       "       [ 0.40824829, -0.83484711,  0.07942048, -0.36063281]])"
      ]
     },
     "execution_count": 27,
     "metadata": {},
     "output_type": "execute_result"
    }
   ],
   "source": [
    "U = gsBasis4(V)\n",
    "gsBasis4(U)"
   ]
  },
  {
   "cell_type": "code",
   "execution_count": 28,
   "metadata": {},
   "outputs": [
    {
     "data": {
      "text/plain": [
       "array([[ 0.40824829, -0.1814885 ,  0.04982278,  0.89325973],\n",
       "       [ 0.        ,  0.1088931 ,  0.99349591, -0.03328918],\n",
       "       [ 0.81649658,  0.50816781, -0.06462163, -0.26631346],\n",
       "       [ 0.40824829, -0.83484711,  0.07942048, -0.36063281]])"
      ]
     },
     "execution_count": 28,
     "metadata": {},
     "output_type": "execute_result"
    }
   ],
   "source": [
    "gsBasis(V)"
   ]
  },
  {
   "cell_type": "code",
   "execution_count": 29,
   "metadata": {},
   "outputs": [],
   "source": [
    "A = np.array([\n",
    "    [3, 2, 3],\n",
    "    [2, 5, -1],\n",
    "    [2, 4, 8],\n",
    "    [12, 2, 1]\n",
    "], dtype=np.float64)"
   ]
  },
  {
   "cell_type": "code",
   "execution_count": 30,
   "metadata": {},
   "outputs": [
    {
     "data": {
      "text/plain": [
       "array([[ 0.23643312,  0.18771349,  0.22132104],\n",
       "       [ 0.15762208,  0.74769023, -0.64395812],\n",
       "       [ 0.15762208,  0.57790444,  0.72904263],\n",
       "       [ 0.94573249, -0.26786082, -0.06951101]])"
      ]
     },
     "execution_count": 30,
     "metadata": {},
     "output_type": "execute_result"
    }
   ],
   "source": [
    "gsBasis(A)"
   ]
  },
  {
   "cell_type": "code",
   "execution_count": 31,
   "metadata": {},
   "outputs": [
    {
     "data": {
      "text/plain": [
       "3.0"
      ]
     },
     "execution_count": 31,
     "metadata": {},
     "output_type": "execute_result"
    }
   ],
   "source": [
    "dimensions(A)"
   ]
  },
  {
   "cell_type": "code",
   "execution_count": 32,
   "metadata": {},
   "outputs": [],
   "source": [
    "B = np.array([\n",
    "    [6, 2, 1, 7, 5],\n",
    "    [2, 8, 5, -4, 1],\n",
    "    [1, -6, 3, 2, 8]\n",
    "], dtype=np.float64)"
   ]
  },
  {
   "cell_type": "code",
   "execution_count": 33,
   "metadata": {},
   "outputs": [
    {
     "data": {
      "text/plain": [
       "array([[ 0.93704257, -0.12700832, -0.32530002,  0.        ,  0.        ],\n",
       "       [ 0.31234752,  0.72140727,  0.61807005,  0.        ,  0.        ],\n",
       "       [ 0.15617376, -0.6807646 ,  0.71566005,  0.        ,  0.        ]])"
      ]
     },
     "execution_count": 33,
     "metadata": {},
     "output_type": "execute_result"
    }
   ],
   "source": [
    "gsBasis(B)"
   ]
  },
  {
   "cell_type": "code",
   "execution_count": 34,
   "metadata": {},
   "outputs": [
    {
     "data": {
      "text/plain": [
       "3.0"
      ]
     },
     "execution_count": 34,
     "metadata": {},
     "output_type": "execute_result"
    }
   ],
   "source": [
    "dimensions(B)"
   ]
  },
  {
   "cell_type": "code",
   "execution_count": 35,
   "metadata": {},
   "outputs": [],
   "source": [
    "C = np.array([\n",
    "    [1, 0, 2],\n",
    "    [0, 1, -3],\n",
    "    [1, 0, 2]\n",
    "], dtype=np.float64)"
   ]
  },
  {
   "cell_type": "code",
   "execution_count": 36,
   "metadata": {},
   "outputs": [
    {
     "data": {
      "text/plain": [
       "array([[0.70710678, 0.        , 0.        ],\n",
       "       [0.        , 1.        , 0.        ],\n",
       "       [0.70710678, 0.        , 0.        ]])"
      ]
     },
     "execution_count": 36,
     "metadata": {},
     "output_type": "execute_result"
    }
   ],
   "source": [
    "gsBasis(C)"
   ]
  },
  {
   "cell_type": "code",
   "execution_count": 37,
   "metadata": {},
   "outputs": [
    {
     "data": {
      "text/plain": [
       "2.0"
      ]
     },
     "execution_count": 37,
     "metadata": {},
     "output_type": "execute_result"
    }
   ],
   "source": [
    "dimensions(C)"
   ]
  }
 ],
 "metadata": {
  "kernelspec": {
   "display_name": "venv",
   "language": "python",
   "name": "python3"
  },
  "language_info": {
   "codemirror_mode": {
    "name": "ipython",
    "version": 3
   },
   "file_extension": ".py",
   "mimetype": "text/x-python",
   "name": "python",
   "nbconvert_exporter": "python",
   "pygments_lexer": "ipython3",
   "version": "3.8.10"
  },
  "orig_nbformat": 4
 },
 "nbformat": 4,
 "nbformat_minor": 2
}
