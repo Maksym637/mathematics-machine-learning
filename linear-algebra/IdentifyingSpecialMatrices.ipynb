{
 "cells": [
  {
   "attachments": {},
   "cell_type": "markdown",
   "metadata": {},
   "source": [
    "### Identifying special matrices\n",
    "#### Instructions\n",
    "In this assignment, you shall write a function that will test if a 4x4 matrix is singular, i.e. to determine if an inverse exists, before calculating it.\n",
    "\n",
    "You shall use the method of converting a matrix to echelon form, and testing if this fails be leaving zeros that can't be removed on the leading diagonal."
   ]
  },
  {
   "attachments": {},
   "cell_type": "markdown",
   "metadata": {},
   "source": [
    "#### Matrices in Python\n",
    "In the **numpy** package in Python, matrices are indexed using zero for the top-most column and left-most row. I.e, the matrix structure looks like this:\n",
    "\n",
    "```python\n",
    "A[0, 0] A[0, 1] A[0, 2] A[0, 3]\n",
    "A[1, 0] A[1, 1] A[1, 2] A[1, 3]\n",
    "A[2, 0] A[2, 1] A[2, 2] A[2, 3]\n",
    "A[3, 0] A[3, 1] A[3, 2] A[3, 3]\n",
    "```\n",
    "\n",
    "You can access the value of each element individually using,\n",
    "\n",
    "```python\n",
    "A[n, m]\n",
    "```\n",
    "\n",
    "which will give the n-th and m-th column (starting with zero). You can also access a whole row at a time using,\n",
    "\n",
    "```python\n",
    "A[n]\n",
    "```\n",
    "\n",
    "Which you will see will be useful when calculating linear combinations of rows."
   ]
  },
  {
   "cell_type": "code",
   "execution_count": 48,
   "metadata": {},
   "outputs": [],
   "source": [
    "import numpy as np"
   ]
  },
  {
   "cell_type": "code",
   "execution_count": 57,
   "metadata": {},
   "outputs": [],
   "source": [
    "class MatrixIsSingular(Exception):\n",
    "    pass"
   ]
  },
  {
   "cell_type": "code",
   "execution_count": 64,
   "metadata": {},
   "outputs": [],
   "source": [
    "def fixRowZero(A):\n",
    "    if A[0, 0] == 0:\n",
    "        A[0] = A[0] + A[1]\n",
    "    if A[0, 0] == 0:\n",
    "        A[0] = A[0] + A[2]\n",
    "    if A[0, 0] == 0:\n",
    "        A[0] = A[0] + A[3]\n",
    "    if A[0, 0] == 0:\n",
    "        raise MatrixIsSingular\n",
    "    A[0] = A[0] / A[0, 0]\n",
    "    return A"
   ]
  },
  {
   "cell_type": "code",
   "execution_count": 65,
   "metadata": {},
   "outputs": [],
   "source": [
    "def fixRowOne(A):\n",
    "    A[1] = A[1] - A[1,  0] * A[0]\n",
    "    if A[1, 1] == 0:\n",
    "        A[1] = A[1] + A[2]\n",
    "        A[1] = A[1] - A[1,  0] * A[0]\n",
    "    if A[1, 1] == 0:\n",
    "        A[1] = A[1] + A[3]\n",
    "        A[1] = A[1] - A[1,  0] * A[0]\n",
    "    if A[1, 1] == 0:\n",
    "        raise MatrixIsSingular\n",
    "    A[1] = A[1] / A[1, 1]\n",
    "    return A"
   ]
  },
  {
   "cell_type": "code",
   "execution_count": 66,
   "metadata": {},
   "outputs": [],
   "source": [
    "def fixRowTwo(A):\n",
    "    A[2] = A[2] - A[2, 0] * A[0]\n",
    "    A[2] = A[2] - A[2, 1] * A[1]\n",
    "    if A[2, 2] == 0:\n",
    "        A[2] = A[2] + A[3]\n",
    "        A[2] = A[2] - A[2, 0] * A[0]\n",
    "        A[2] = A[2] - A[2, 1] * A[1]\n",
    "    if A[2, 2] == 0:\n",
    "        raise MatrixIsSingular\n",
    "    A[2] = A[2] / A[2, 2]\n",
    "    return A"
   ]
  },
  {
   "cell_type": "code",
   "execution_count": 67,
   "metadata": {},
   "outputs": [],
   "source": [
    "def fixRowThree(A):\n",
    "    A[3] = A[3] - A[3, 0] * A[0]\n",
    "    A[3] = A[3] - A[3, 1] * A[1]\n",
    "    A[3] = A[3] - A[3, 2] * A[2]\n",
    "    if A[3, 3] == 0:\n",
    "        raise MatrixIsSingular\n",
    "    A[3] = A[3] / A[3, 3]\n",
    "    return A"
   ]
  },
  {
   "cell_type": "code",
   "execution_count": 68,
   "metadata": {},
   "outputs": [],
   "source": [
    "def isSingular(A):\n",
    "    B = np.array(A, dtype=np.float64)\n",
    "    try:\n",
    "        fixRowZero(B)\n",
    "        fixRowOne(A)\n",
    "        fixRowTwo(B)\n",
    "        fixRowThree(B)\n",
    "    except MatrixIsSingular:\n",
    "        return True\n",
    "    return False"
   ]
  },
  {
   "attachments": {},
   "cell_type": "markdown",
   "metadata": {},
   "source": [
    "#### Test your code"
   ]
  },
  {
   "cell_type": "code",
   "execution_count": 69,
   "metadata": {},
   "outputs": [
    {
     "data": {
      "text/plain": [
       "True"
      ]
     },
     "execution_count": 69,
     "metadata": {},
     "output_type": "execute_result"
    }
   ],
   "source": [
    "A = np.array([\n",
    "    [2, 0, 0, 0],\n",
    "    [0, 3, 0, 0],\n",
    "    [0, 0, 4, 4],\n",
    "    [0, 0, 5, 5]\n",
    "], dtype=np.float64)\n",
    "isSingular(A)"
   ]
  },
  {
   "cell_type": "code",
   "execution_count": 70,
   "metadata": {},
   "outputs": [],
   "source": [
    "A = np.array([\n",
    "    [0, 7, -5, 3],\n",
    "    [2, 8, 0, 4],\n",
    "    [3, 12, 0, 5],\n",
    "    [1, 3, 1, 3]\n",
    "], dtype=np.float64)"
   ]
  },
  {
   "cell_type": "code",
   "execution_count": 71,
   "metadata": {},
   "outputs": [
    {
     "data": {
      "text/plain": [
       "array([[ 1. ,  7.5, -2.5,  3.5],\n",
       "       [ 2. ,  8. ,  0. ,  4. ],\n",
       "       [ 3. , 12. ,  0. ,  5. ],\n",
       "       [ 1. ,  3. ,  1. ,  3. ]])"
      ]
     },
     "execution_count": 71,
     "metadata": {},
     "output_type": "execute_result"
    }
   ],
   "source": [
    "fixRowZero(A)"
   ]
  },
  {
   "cell_type": "code",
   "execution_count": 72,
   "metadata": {},
   "outputs": [
    {
     "data": {
      "text/plain": [
       "array([[ 1.        ,  7.5       , -2.5       ,  3.5       ],\n",
       "       [-0.        ,  1.        , -0.71428571,  0.42857143],\n",
       "       [ 3.        , 12.        ,  0.        ,  5.        ],\n",
       "       [ 1.        ,  3.        ,  1.        ,  3.        ]])"
      ]
     },
     "execution_count": 72,
     "metadata": {},
     "output_type": "execute_result"
    }
   ],
   "source": [
    "fixRowOne(A)"
   ]
  },
  {
   "cell_type": "code",
   "execution_count": 73,
   "metadata": {},
   "outputs": [
    {
     "data": {
      "text/plain": [
       "array([[ 1.        ,  7.5       , -2.5       ,  3.5       ],\n",
       "       [-0.        ,  1.        , -0.71428571,  0.42857143],\n",
       "       [ 0.        ,  0.        ,  1.        ,  1.5       ],\n",
       "       [ 1.        ,  3.        ,  1.        ,  3.        ]])"
      ]
     },
     "execution_count": 73,
     "metadata": {},
     "output_type": "execute_result"
    }
   ],
   "source": [
    "fixRowTwo(A)"
   ]
  },
  {
   "cell_type": "code",
   "execution_count": 74,
   "metadata": {},
   "outputs": [
    {
     "data": {
      "text/plain": [
       "array([[ 1.        ,  7.5       , -2.5       ,  3.5       ],\n",
       "       [-0.        ,  1.        , -0.71428571,  0.42857143],\n",
       "       [ 0.        ,  0.        ,  1.        ,  1.5       ],\n",
       "       [ 0.        ,  0.        ,  0.        ,  1.        ]])"
      ]
     },
     "execution_count": 74,
     "metadata": {},
     "output_type": "execute_result"
    }
   ],
   "source": [
    "fixRowThree(A)"
   ]
  }
 ],
 "metadata": {
  "kernelspec": {
   "display_name": "venv",
   "language": "python",
   "name": "python3"
  },
  "language_info": {
   "codemirror_mode": {
    "name": "ipython",
    "version": 3
   },
   "file_extension": ".py",
   "mimetype": "text/x-python",
   "name": "python",
   "nbconvert_exporter": "python",
   "pygments_lexer": "ipython3",
   "version": "3.8.10"
  },
  "orig_nbformat": 4
 },
 "nbformat": 4,
 "nbformat_minor": 2
}
